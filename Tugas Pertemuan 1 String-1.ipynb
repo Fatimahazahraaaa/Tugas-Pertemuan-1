{
 "cells": [
  {
   "cell_type": "code",
   "execution_count": 4,
   "id": "93981ac7",
   "metadata": {},
   "outputs": [
    {
     "data": {
      "text/plain": [
       "'Hello Bob!'"
      ]
     },
     "execution_count": 4,
     "metadata": {},
     "output_type": "execute_result"
    }
   ],
   "source": [
    "#hello_name('Bob') → 'Hello Bob!'\n",
    "#hello_name('Alice') → 'Hello Alice!'\n",
    "#hello_name('X') → 'Hello X!'\n",
    "\n",
    "def hello_name(name):\n",
    "  return \"Hello \" + name + \"!\"\n",
    "hello_name(\"Bob\")"
   ]
  },
  {
   "cell_type": "code",
   "execution_count": 6,
   "id": "5fd5709a",
   "metadata": {},
   "outputs": [
    {
     "data": {
      "text/plain": [
       "'HiByeByeHi'"
      ]
     },
     "execution_count": 6,
     "metadata": {},
     "output_type": "execute_result"
    }
   ],
   "source": [
    "#make_abba('Hi', 'Bye') → 'HiByeByeHi'\n",
    "#make_abba('Yo', 'Alice') → 'YoAliceAliceYo'\n",
    "#make_abba('What', 'Up') → 'WhatUpUpWhat'\n",
    "\n",
    "def make_abba(a, b):\n",
    "  return a + b + b + a\n",
    "make_abba('Hi', 'Bye') "
   ]
  },
  {
   "cell_type": "code",
   "execution_count": 8,
   "id": "da85e05b",
   "metadata": {},
   "outputs": [
    {
     "data": {
      "text/plain": [
       "'<i>Yay</i>'"
      ]
     },
     "execution_count": 8,
     "metadata": {},
     "output_type": "execute_result"
    }
   ],
   "source": [
    "#make_tags('i', 'Yay') → '<i>Yay</i>'\n",
    "#make_tags('i', 'Hello') → '<i>Hello</i>'\n",
    "#make_tags('cite', 'Yay') → '<cite>Yay</cite>'\n",
    "\n",
    "def make_tags(tag, word):\n",
    "  return \"<{}>{}</{}>\".format(tag, word, tag)\n",
    "make_tags('i', 'Yay')\n"
   ]
  },
  {
   "cell_type": "code",
   "execution_count": 9,
   "id": "6dab1482",
   "metadata": {},
   "outputs": [
    {
     "data": {
      "text/plain": [
       "'<<Yay>>'"
      ]
     },
     "execution_count": 9,
     "metadata": {},
     "output_type": "execute_result"
    }
   ],
   "source": [
    "#make_out_word('<<>>', 'Yay') → '<<Yay>>'\n",
    "#make_out_word('<<>>', 'WooHoo') → '<<WooHoo>>'\n",
    "#make_out_word('[[]]', 'word') → '[[word]]'\n",
    "\n",
    "def make_out_word(out, word):\n",
    "    start = out[:2]  \n",
    "    end = out[2:]    \n",
    "    \n",
    "    result = start + word + end\n",
    "    return result\n",
    "make_out_word('<<>>', 'Yay')"
   ]
  },
  {
   "cell_type": "code",
   "execution_count": 10,
   "id": "ff53fcf5",
   "metadata": {},
   "outputs": [
    {
     "data": {
      "text/plain": [
       "'lololo'"
      ]
     },
     "execution_count": 10,
     "metadata": {},
     "output_type": "execute_result"
    }
   ],
   "source": [
    "#extra_end('Hello') → 'lololo'\n",
    "#extra_end('ab') → 'ababab'\n",
    "#extra_end('Hi') → 'HiHiHi'\n",
    "\n",
    "def extra_end(str):\n",
    "  last_two = str [-2:]\n",
    "  return last_two * 3\n",
    "extra_end('Hello') "
   ]
  },
  {
   "cell_type": "code",
   "execution_count": 11,
   "id": "aa4a6ba2",
   "metadata": {},
   "outputs": [
    {
     "data": {
      "text/plain": [
       "'He'"
      ]
     },
     "execution_count": 11,
     "metadata": {},
     "output_type": "execute_result"
    }
   ],
   "source": [
    "#first_two('Hello') → 'He'\n",
    "#first_two('abcdefg') → 'ab'\n",
    "#first_two('ab') → 'ab'\n",
    "\n",
    "def first_two(str):\n",
    "  if len(str) >= 2:\n",
    "    return str[:2]\n",
    "  else:\n",
    "    return str\n",
    "\n",
    "first_two('Hello')"
   ]
  },
  {
   "cell_type": "code",
   "execution_count": 12,
   "id": "49df6953",
   "metadata": {},
   "outputs": [
    {
     "data": {
      "text/plain": [
       "'Woo'"
      ]
     },
     "execution_count": 12,
     "metadata": {},
     "output_type": "execute_result"
    }
   ],
   "source": [
    "#first_half('WooHoo') → 'Woo'\n",
    "#first_half('HelloThere') → 'Hello'\n",
    "#first_half('abcdef') → 'abc'\n",
    "\n",
    "def first_half(str):\n",
    "    half_length = len(str) // 2\n",
    " \n",
    "    return str[:half_length]\n",
    "first_half('WooHoo')"
   ]
  },
  {
   "cell_type": "code",
   "execution_count": 13,
   "id": "dc8f775c",
   "metadata": {},
   "outputs": [
    {
     "data": {
      "text/plain": [
       "'ell'"
      ]
     },
     "execution_count": 13,
     "metadata": {},
     "output_type": "execute_result"
    }
   ],
   "source": [
    "#without_end('Hello') → 'ell'\n",
    "#without_end('java') → 'av'\n",
    "#without_end('coding') → 'odin'\n",
    "\n",
    "def without_end(str):\n",
    "  return str[1:-1]\n",
    "without_end('Hello')"
   ]
  },
  {
   "cell_type": "code",
   "execution_count": 14,
   "id": "0f03afc1",
   "metadata": {},
   "outputs": [
    {
     "data": {
      "text/plain": [
       "'hiHellohi'"
      ]
     },
     "execution_count": 14,
     "metadata": {},
     "output_type": "execute_result"
    }
   ],
   "source": [
    "#combo_string('Hello', 'hi') → 'hiHellohi'\n",
    "#combo_string('hi', 'Hello') → 'hiHellohi'\n",
    "#combo_string('aaa', 'b') → 'baaab'\n",
    "\n",
    "def combo_string(a, b):\n",
    "    if len(a) < len(b):\n",
    "        return a + b + a\n",
    "    else:\n",
    "        return b + a + b\n",
    "\n",
    "combo_string('Hello', 'hi')"
   ]
  },
  {
   "cell_type": "code",
   "execution_count": 15,
   "id": "c1149210",
   "metadata": {},
   "outputs": [
    {
     "data": {
      "text/plain": [
       "'ellohere'"
      ]
     },
     "execution_count": 15,
     "metadata": {},
     "output_type": "execute_result"
    }
   ],
   "source": [
    "#non_start('Hello', 'There') → 'ellohere'\n",
    "#non_start('java', 'code') → 'avaode'\n",
    "#non_start('shotl', 'java') → 'hotlava'\n",
    "\n",
    "def non_start(a, b):\n",
    "  return a[1:] + b[1:]\n",
    "\n",
    "non_start('Hello', 'There')"
   ]
  },
  {
   "cell_type": "code",
   "execution_count": 16,
   "id": "f035d818",
   "metadata": {},
   "outputs": [
    {
     "data": {
      "text/plain": [
       "'lloHe'"
      ]
     },
     "execution_count": 16,
     "metadata": {},
     "output_type": "execute_result"
    }
   ],
   "source": [
    "#left2('Hello') → 'lloHe'\n",
    "#left2('java') → 'vaja'\n",
    "#left2('Hi') → 'Hi'\n",
    "\n",
    "def left2(str):\n",
    "  return str[2:] + str[:2]\n",
    "left2('Hello')"
   ]
  },
  {
   "cell_type": "code",
   "execution_count": null,
   "id": "6bf8174b",
   "metadata": {},
   "outputs": [],
   "source": []
  }
 ],
 "metadata": {
  "kernelspec": {
   "display_name": "Python 3 (ipykernel)",
   "language": "python",
   "name": "python3"
  },
  "language_info": {
   "codemirror_mode": {
    "name": "ipython",
    "version": 3
   },
   "file_extension": ".py",
   "mimetype": "text/x-python",
   "name": "python",
   "nbconvert_exporter": "python",
   "pygments_lexer": "ipython3",
   "version": "3.11.5"
  }
 },
 "nbformat": 4,
 "nbformat_minor": 5
}
