{
 "cells": [
  {
   "cell_type": "code",
   "execution_count": 5,
   "id": "7901387d",
   "metadata": {},
   "outputs": [
    {
     "data": {
      "text/plain": [
       "False"
      ]
     },
     "execution_count": 5,
     "metadata": {},
     "output_type": "execute_result"
    }
   ],
   "source": [
    "#cigar_party(30, False) → False\n",
    "#cigar_party(50, False) → True\n",
    "#cigar_party(70, True) → True\n",
    "\n",
    "def cigar_party(cigars, is_weekend):\n",
    "  if is_weekend:\n",
    "    return (cigars >= 40)\n",
    "  else:\n",
    "    return (cigars >= 40 and cigars <= 60)\n",
    "\n",
    "cigar_party(30, False)"
   ]
  },
  {
   "cell_type": "code",
   "execution_count": 6,
   "id": "dde6c9fe",
   "metadata": {},
   "outputs": [
    {
     "data": {
      "text/plain": [
       "2"
      ]
     },
     "execution_count": 6,
     "metadata": {},
     "output_type": "execute_result"
    }
   ],
   "source": [
    "#date_fashion(5, 10) → 2\n",
    "#date_fashion(5, 2) → 0\n",
    "#date_fashion(5, 5) → 1\n",
    "\n",
    "def date_fashion(you, date):\n",
    "    if you <= 2 or date <= 2:\n",
    "        return 0 \n",
    "    elif you >= 8 or date >= 8:\n",
    "        return 2 \n",
    "    else:\n",
    "        return 1  \n",
    "\n",
    "date_fashion(5, 10)"
   ]
  },
  {
   "cell_type": "code",
   "execution_count": 7,
   "id": "b9a8050c",
   "metadata": {},
   "outputs": [
    {
     "data": {
      "text/plain": [
       "True"
      ]
     },
     "execution_count": 7,
     "metadata": {},
     "output_type": "execute_result"
    }
   ],
   "source": [
    "#squirrel_play(70, False) → True\n",
    "#squirrel_play(95, False) → False\n",
    "#squirrel_play(95, True) → True\n",
    "\n",
    "def squirrel_play(temp, is_summer):\n",
    "    if is_summer:\n",
    "        return 60 <= temp <= 100\n",
    "    else:\n",
    "        return 60 <= temp <= 90\n",
    "\n",
    "squirrel_play(70, False)"
   ]
  },
  {
   "cell_type": "code",
   "execution_count": 8,
   "id": "b09b0432",
   "metadata": {},
   "outputs": [
    {
     "data": {
      "text/plain": [
       "0"
      ]
     },
     "execution_count": 8,
     "metadata": {},
     "output_type": "execute_result"
    }
   ],
   "source": [
    "#caught_speeding(60, False) → 0\n",
    "#caught_speeding(65, False) → 1\n",
    "#caught_speeding(65, True) → 0\n",
    "\n",
    "def caught_speeding(speed, is_birthday):\n",
    "    if is_birthday:\n",
    "        speed -= 5\n",
    "    \n",
    "    if speed <= 60:\n",
    "        return 0  \n",
    "    elif 61 <= speed <= 80:\n",
    "        return 1 \n",
    "    else:\n",
    "        return 2 \n",
    "\n",
    "caught_speeding(60, False)"
   ]
  },
  {
   "cell_type": "code",
   "execution_count": 9,
   "id": "d28b30bb",
   "metadata": {},
   "outputs": [
    {
     "data": {
      "text/plain": [
       "7"
      ]
     },
     "execution_count": 9,
     "metadata": {},
     "output_type": "execute_result"
    }
   ],
   "source": [
    "#sorta_sum(3, 4) → 7\n",
    "#sorta_sum(9, 4) → 20\n",
    "#sorta_sum(10, 11) → 21\n",
    "\n",
    "def sorta_sum(a, b):\n",
    "    total = a + b\n",
    "\n",
    "    if 10 <= total <= 19:\n",
    "        return 20\n",
    "    else:\n",
    "        return total\n",
    "\n",
    "sorta_sum(3, 4)"
   ]
  },
  {
   "cell_type": "code",
   "execution_count": 10,
   "id": "585cbf66",
   "metadata": {},
   "outputs": [
    {
     "data": {
      "text/plain": [
       "'7:00'"
      ]
     },
     "execution_count": 10,
     "metadata": {},
     "output_type": "execute_result"
    }
   ],
   "source": [
    "#alarm_clock(1, False) → '7:00'\n",
    "#alarm_clock(5, False) → '7:00'\n",
    "#alarm_clock(0, False) → '10:00'\n",
    "\n",
    "def alarm_clock(day, vacation):\n",
    "\n",
    "    if vacation:\n",
    "        if day == 0 or day == 6: \n",
    "            return 'off'\n",
    "        else:  \n",
    "            return '10:00'\n",
    "    else:\n",
    "        if day == 0 or day == 6:  \n",
    "            return '10:00'\n",
    "        else:  \n",
    "            return '7:00'\n",
    "\n",
    "alarm_clock(1, False)"
   ]
  },
  {
   "cell_type": "code",
   "execution_count": 12,
   "id": "06ca6443",
   "metadata": {},
   "outputs": [
    {
     "data": {
      "text/plain": [
       "True"
      ]
     },
     "execution_count": 12,
     "metadata": {},
     "output_type": "execute_result"
    }
   ],
   "source": [
    "#love6(6, 4) → True\n",
    "#love6(4, 5) → False\n",
    "#love6(1, 5) → True\n",
    "\n",
    "def love6(a, b):\n",
    "    if a == 6 or b == 6:\n",
    "        return True\n",
    "    elif a + b == 6:\n",
    "        return True\n",
    "    elif abs(a - b) == 6:\n",
    "        return True\n",
    "    else:\n",
    "        return False\n",
    "\n",
    "love6(6, 4) "
   ]
  },
  {
   "cell_type": "code",
   "execution_count": 13,
   "id": "bdc881eb",
   "metadata": {},
   "outputs": [
    {
     "data": {
      "text/plain": [
       "True"
      ]
     },
     "execution_count": 13,
     "metadata": {},
     "output_type": "execute_result"
    }
   ],
   "source": [
    "#in1to10(5, False) → True\n",
    "#in1to10(11, False) → False\n",
    "#in1to10(11, True) → True\n",
    "\n",
    "def in1to10(n, outside_mode):\n",
    "    if outside_mode:\n",
    "        return n <= 1 or n >= 10\n",
    "    else:\n",
    "        return 1 <= n <= 10\n",
    "\n",
    "in1to10(5, False)"
   ]
  },
  {
   "cell_type": "code",
   "execution_count": 14,
   "id": "fa41e49a",
   "metadata": {},
   "outputs": [
    {
     "data": {
      "text/plain": [
       "True"
      ]
     },
     "execution_count": 14,
     "metadata": {},
     "output_type": "execute_result"
    }
   ],
   "source": [
    "#near_ten(12) → True\n",
    "#near_ten(17) → False\n",
    "#near_ten(19) → True\n",
    "\n",
    "def near_ten(num):\n",
    "    remainder = num % 10\n",
    "    return remainder <= 2 or remainder >= 8\n",
    "\n",
    "near_ten(12)"
   ]
  },
  {
   "cell_type": "code",
   "execution_count": null,
   "id": "1863df4b",
   "metadata": {},
   "outputs": [],
   "source": []
  }
 ],
 "metadata": {
  "kernelspec": {
   "display_name": "Python 3 (ipykernel)",
   "language": "python",
   "name": "python3"
  },
  "language_info": {
   "codemirror_mode": {
    "name": "ipython",
    "version": 3
   },
   "file_extension": ".py",
   "mimetype": "text/x-python",
   "name": "python",
   "nbconvert_exporter": "python",
   "pygments_lexer": "ipython3",
   "version": "3.11.5"
  }
 },
 "nbformat": 4,
 "nbformat_minor": 5
}
